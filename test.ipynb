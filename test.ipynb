{
 "cells": [
  {
   "cell_type": "code",
   "execution_count": 1,
   "metadata": {
    "collapsed": true
   },
   "outputs": [],
   "source": [
    "from packaging import version\n",
    "import pandas as pd\n",
    "from matplotlib import pyplot as plt\n",
    "from scipy import stats\n",
    "import tensorboard as tb"
   ]
  },
  {
   "cell_type": "code",
   "execution_count": 2,
   "outputs": [
    {
     "name": "stderr",
     "output_type": "stream",
     "text": [
      "C:\\Users\\Tuge\\AppData\\Local\\Temp/ipykernel_78896/3265986384.py:7: UserWarning: Boolean Series key will be reindexed to match DataFrame index.\n",
      "  val_acc = df_acc[df.run.str.endswith(\"\\\\validation\")]\n",
      "C:\\Users\\Tuge\\AppData\\Local\\Temp/ipykernel_78896/3265986384.py:8: UserWarning: Boolean Series key will be reindexed to match DataFrame index.\n",
      "  train_acc = df_acc[df.run.str.endswith(\"\\\\train\")]\n",
      "C:\\Users\\Tuge\\AppData\\Local\\Temp/ipykernel_78896/3265986384.py:9: UserWarning: Boolean Series key will be reindexed to match DataFrame index.\n",
      "  val_loss = df_loss[df.run.str.endswith(\"\\\\validation\")]\n",
      "C:\\Users\\Tuge\\AppData\\Local\\Temp/ipykernel_78896/3265986384.py:10: UserWarning: Boolean Series key will be reindexed to match DataFrame index.\n",
      "  train_loss = df_loss[df.run.str.endswith(\"\\\\train\")]\n"
     ]
    }
   ],
   "source": [
    "experiment_id = 'b3vXxUD5RgqqPUGLMNaXNA'\n",
    "experiment = tb.data.experimental.ExperimentFromDev(experiment_id)\n",
    "df = experiment.get_scalars(include_wall_time=True)\n",
    "# split dataframe into validation accuracy, training accuracy, validation loss, training loss\n",
    "df_acc = df[df['tag'] == 'epoch_orientation_accuracy']\n",
    "df_loss = df[df['tag'] == 'epoch_loss']\n",
    "val_acc = df_acc[df.run.str.endswith(\"\\\\validation\")]\n",
    "train_acc = df_acc[df.run.str.endswith(\"\\\\train\")]\n",
    "val_loss = df_loss[df.run.str.endswith(\"\\\\validation\")]\n",
    "train_loss = df_loss[df.run.str.endswith(\"\\\\train\")]"
   ],
   "metadata": {
    "collapsed": false,
    "pycharm": {
     "name": "#%%\n"
    }
   }
  },
  {
   "cell_type": "code",
   "execution_count": 7,
   "outputs": [
    {
     "name": "stdout",
     "output_type": "stream",
     "text": [
      "36      single_bin_with_pos_enc\n",
      "37      single_bin_with_pos_enc\n",
      "38      single_bin_with_pos_enc\n",
      "39      single_bin_with_pos_enc\n",
      "40      single_bin_with_pos_enc\n",
      "                 ...           \n",
      "1743     tricosine_with_pos_enc\n",
      "1744     tricosine_with_pos_enc\n",
      "1745     tricosine_with_pos_enc\n",
      "1746     tricosine_with_pos_enc\n",
      "1747     tricosine_with_pos_enc\n",
      "Name: run, Length: 339, dtype: object\n"
     ]
    }
   ],
   "source": [
    "import copy\n",
    "input_df = copy.deepcopy(val_acc)\n",
    "input_df = input_df.drop(columns=['tag', 'wall_time'])\n",
    "# remove data in \"run\" columns\n",
    "input_df['run'] = input_df['run'].str.extract(r'logs\\\\(\\D+)_\\d\\d\\d\\d')\n",
    "print(input_df[\"run\"])"
   ],
   "metadata": {
    "collapsed": false,
    "pycharm": {
     "name": "#%%\n"
    }
   }
  },
  {
   "cell_type": "code",
   "execution_count": 6,
   "outputs": [
    {
     "data": {
      "text/plain": "                                                    run  \\\n36    logs\\single_bin_with_pos_enc_2021-07-22-10-27-...   \n37    logs\\single_bin_with_pos_enc_2021-07-22-10-27-...   \n38    logs\\single_bin_with_pos_enc_2021-07-22-10-27-...   \n39    logs\\single_bin_with_pos_enc_2021-07-22-10-27-...   \n40    logs\\single_bin_with_pos_enc_2021-07-22-10-27-...   \n...                                                 ...   \n1743  logs\\tricosine_with_pos_enc_2021-07-21-11-01-0...   \n1744  logs\\tricosine_with_pos_enc_2021-07-21-11-01-0...   \n1745  logs\\tricosine_with_pos_enc_2021-07-21-11-01-0...   \n1746  logs\\tricosine_with_pos_enc_2021-07-21-11-01-0...   \n1747  logs\\tricosine_with_pos_enc_2021-07-21-11-01-0...   \n\n                             tag  step     value     wall_time  \n36    epoch_orientation_accuracy     0  0.634358  1.626965e+09  \n37    epoch_orientation_accuracy     1  0.707867  1.626965e+09  \n38    epoch_orientation_accuracy     2  0.674261  1.626966e+09  \n39    epoch_orientation_accuracy     3  0.755378  1.626966e+09  \n40    epoch_orientation_accuracy     4  0.744084  1.626967e+09  \n...                          ...   ...       ...           ...  \n1743  epoch_orientation_accuracy    95  0.935636  1.626952e+09  \n1744  epoch_orientation_accuracy    96  0.923197  1.626952e+09  \n1745  epoch_orientation_accuracy    97  0.931249  1.626953e+09  \n1746  epoch_orientation_accuracy    98  0.933627  1.626954e+09  \n1747  epoch_orientation_accuracy    99  0.941186  1.626954e+09  \n\n[339 rows x 5 columns]",
      "text/html": "<div>\n<style scoped>\n    .dataframe tbody tr th:only-of-type {\n        vertical-align: middle;\n    }\n\n    .dataframe tbody tr th {\n        vertical-align: top;\n    }\n\n    .dataframe thead th {\n        text-align: right;\n    }\n</style>\n<table border=\"1\" class=\"dataframe\">\n  <thead>\n    <tr style=\"text-align: right;\">\n      <th></th>\n      <th>run</th>\n      <th>tag</th>\n      <th>step</th>\n      <th>value</th>\n      <th>wall_time</th>\n    </tr>\n  </thead>\n  <tbody>\n    <tr>\n      <th>36</th>\n      <td>logs\\single_bin_with_pos_enc_2021-07-22-10-27-...</td>\n      <td>epoch_orientation_accuracy</td>\n      <td>0</td>\n      <td>0.634358</td>\n      <td>1.626965e+09</td>\n    </tr>\n    <tr>\n      <th>37</th>\n      <td>logs\\single_bin_with_pos_enc_2021-07-22-10-27-...</td>\n      <td>epoch_orientation_accuracy</td>\n      <td>1</td>\n      <td>0.707867</td>\n      <td>1.626965e+09</td>\n    </tr>\n    <tr>\n      <th>38</th>\n      <td>logs\\single_bin_with_pos_enc_2021-07-22-10-27-...</td>\n      <td>epoch_orientation_accuracy</td>\n      <td>2</td>\n      <td>0.674261</td>\n      <td>1.626966e+09</td>\n    </tr>\n    <tr>\n      <th>39</th>\n      <td>logs\\single_bin_with_pos_enc_2021-07-22-10-27-...</td>\n      <td>epoch_orientation_accuracy</td>\n      <td>3</td>\n      <td>0.755378</td>\n      <td>1.626966e+09</td>\n    </tr>\n    <tr>\n      <th>40</th>\n      <td>logs\\single_bin_with_pos_enc_2021-07-22-10-27-...</td>\n      <td>epoch_orientation_accuracy</td>\n      <td>4</td>\n      <td>0.744084</td>\n      <td>1.626967e+09</td>\n    </tr>\n    <tr>\n      <th>...</th>\n      <td>...</td>\n      <td>...</td>\n      <td>...</td>\n      <td>...</td>\n      <td>...</td>\n    </tr>\n    <tr>\n      <th>1743</th>\n      <td>logs\\tricosine_with_pos_enc_2021-07-21-11-01-0...</td>\n      <td>epoch_orientation_accuracy</td>\n      <td>95</td>\n      <td>0.935636</td>\n      <td>1.626952e+09</td>\n    </tr>\n    <tr>\n      <th>1744</th>\n      <td>logs\\tricosine_with_pos_enc_2021-07-21-11-01-0...</td>\n      <td>epoch_orientation_accuracy</td>\n      <td>96</td>\n      <td>0.923197</td>\n      <td>1.626952e+09</td>\n    </tr>\n    <tr>\n      <th>1745</th>\n      <td>logs\\tricosine_with_pos_enc_2021-07-21-11-01-0...</td>\n      <td>epoch_orientation_accuracy</td>\n      <td>97</td>\n      <td>0.931249</td>\n      <td>1.626953e+09</td>\n    </tr>\n    <tr>\n      <th>1746</th>\n      <td>logs\\tricosine_with_pos_enc_2021-07-21-11-01-0...</td>\n      <td>epoch_orientation_accuracy</td>\n      <td>98</td>\n      <td>0.933627</td>\n      <td>1.626954e+09</td>\n    </tr>\n    <tr>\n      <th>1747</th>\n      <td>logs\\tricosine_with_pos_enc_2021-07-21-11-01-0...</td>\n      <td>epoch_orientation_accuracy</td>\n      <td>99</td>\n      <td>0.941186</td>\n      <td>1.626954e+09</td>\n    </tr>\n  </tbody>\n</table>\n<p>339 rows × 5 columns</p>\n</div>"
     },
     "execution_count": 6,
     "metadata": {},
     "output_type": "execute_result"
    }
   ],
   "source": [
    "val_acc\n"
   ],
   "metadata": {
    "collapsed": false,
    "pycharm": {
     "name": "#%%\n"
    }
   }
  },
  {
   "cell_type": "code",
   "execution_count": 24,
   "outputs": [
    {
     "name": "stdout",
     "output_type": "stream",
     "text": [
      "1242 376\n"
     ]
    }
   ],
   "source": [
    "import os\n",
    "import matplotlib.pyplot as plt\n",
    "file_path = \"D:/Study/FIRE\\KITTI-Orientation/dataset/training/image_2\"\n",
    "max_h, max_w = 0, 0\n",
    "\n",
    "for file in os.listdir(file_path):\n",
    "    img_path = os.path.join(file_path, file)\n",
    "    w,h,_ = plt.imread(img_path).shape\n",
    "    max_h = h if h > max_h else max_h\n",
    "    max_w = w if w > max_w else max_w\n",
    "print(max_h, max_w)\n",
    "\n"
   ],
   "metadata": {
    "collapsed": false,
    "pycharm": {
     "name": "#%%\n"
    }
   }
  },
  {
   "cell_type": "code",
   "execution_count": null,
   "outputs": [],
   "source": [
    "|"
   ],
   "metadata": {
    "collapsed": false,
    "pycharm": {
     "name": "#%%\n"
    }
   }
  }
 ],
 "metadata": {
  "kernelspec": {
   "name": "pycharm-f2262b83",
   "language": "python",
   "display_name": "PyCharm (KITTI-Orientation)"
  },
  "language_info": {
   "codemirror_mode": {
    "name": "ipython",
    "version": 2
   },
   "file_extension": ".py",
   "mimetype": "text/x-python",
   "name": "python",
   "nbconvert_exporter": "python",
   "pygments_lexer": "ipython2",
   "version": "2.7.6"
  }
 },
 "nbformat": 4,
 "nbformat_minor": 0
}