{
 "cells": [
  {
   "cell_type": "code",
   "execution_count": 1,
   "metadata": {},
   "outputs": [],
   "source": [
    "import pandas as pd\n",
    "from serialize import NumpyEncoder,json_numpy_obj_hook\n",
    "import json\n",
    "import orientation_converters as conv\n",
    "from tqdm import tqdm\n",
    "import math\n",
    "from matplotlib import pyplot"
   ]
  },
  {
   "cell_type": "code",
   "execution_count": 2,
   "metadata": {},
   "outputs": [],
   "source": [
    "# gather all prediction files\n",
    "\n",
    "with open(\"preds/alpha.json\",\"r+\") as fp:\n",
    "    alpha_preds = json.load(fp,object_hook=json_numpy_obj_hook)\n",
    "with open(\"preds/rot_y.json\",\"r+\") as fp:\n",
    "    roty_preds = json.load(fp,object_hook=json_numpy_obj_hook)\n",
    "with open(\"preds/single_bin.json\",\"r+\") as fp:\n",
    "    single_preds = json.load(fp,object_hook=json_numpy_obj_hook)\n",
    "with open(\"preds/voting_bin.json\",\"r+\") as fp:\n",
    "    voting_preds = json.load(fp,object_hook=json_numpy_obj_hook)\n",
    "with open(\"preds/tricosine.json\",\"r+\") as fp:\n",
    "    tricosine_preds = json.load(fp, object_hook=json_numpy_obj_hook)"
   ]
  },
  {
   "cell_type": "code",
   "execution_count": 3,
   "metadata": {},
   "outputs": [],
   "source": [
    "# gather all predictions into images.\n",
    "\n",
    "images={}\n",
    "\n",
    "for p in alpha_preds:\n",
    "    # get the first value, i.e. the alpha prediction\n",
    "    pred_alpha = conv.angle_normed_to_radians(p['pred'][0])\n",
    "    imgid = p['img_id']\n",
    "    if (imgid not in images):\n",
    "        images[imgid]={}\n",
    "    images[imgid][p['line']] ={'norm_alpha':p['pred'][0],'pred_alpha':pred_alpha}\n",
    "    \n",
    "for p in roty_preds:\n",
    "    # get the first value, i.e. the rot_y prediction\n",
    "    pred_roty = conv.angle_normed_to_radians(p['pred'][0])\n",
    "    imgid = p['img_id']\n",
    "    if (imgid not in images):\n",
    "        raise\n",
    "    images[imgid][p['line']]['norm_roty'] = p['pred'][0]\n",
    "    images[imgid][p['line']]['pred_roty'] = pred_roty\n",
    "    tokens = p['line'].strip().split(' ')\n",
    "    images[imgid][p['line']]['conv_roty'] = conv.rot_y_to_alpha(pred_roty,float(tokens[11]),float(tokens[13]))\n",
    "    \n",
    "for p in single_preds:\n",
    "    conv_single = conv.single_bin_to_radians(p['pred'])\n",
    "    imgid = p['img_id']\n",
    "    if (imgid not in images):\n",
    "        raise\n",
    "    images[imgid][p['line']]['single_pred'] = p['pred']\n",
    "    images[imgid][p['line']]['conv_single'] = conv_single\n",
    "    \n",
    "for p in voting_preds:\n",
    "    conv_voting = conv.voting_bin_to_radians(p['pred'])\n",
    "    imgid = p['img_id']\n",
    "    if (conv_voting>math.pi):\n",
    "        conv_voting-=math.tau\n",
    "    if (imgid not in images):\n",
    "        raise\n",
    "    images[imgid][p['line']]['voting_pred'] = p['pred']\n",
    "    images[imgid][p['line']]['conv_voting'] = conv_voting\n",
    "    \n",
    "for p in tricosine_preds:\n",
    "    conv_tri = conv.tricosine_to_radians(p['pred'])\n",
    "    imgid = p['img_id']\n",
    "    if (imgid not in images): # create a dict for each img_id\n",
    "        raise\n",
    "    images[imgid][p['line']]['tricosine_pred'] = p['pred']\n",
    "    images[imgid][p['line']]['conv_tricosine'] = conv_tri"
   ]
  },
  {
   "cell_type": "code",
   "execution_count": 4,
   "metadata": {},
   "outputs": [],
   "source": [
    "# gather all predictions into instances.\n",
    "\n",
    "instances = []\n",
    "for c,imgid in enumerate(images):\n",
    "    for instance in images[imgid]:\n",
    "        instance_dict = images[imgid][instance]\n",
    "        # add more keys to instance_dict\n",
    "        instance_dict['imgid'] = imgid\n",
    "        instance_dict['line'] = instance\n",
    "        tokens = instance.strip().split(' ')\n",
    "        instance_dict['gt_alpha'] = float(tokens[3])\n",
    "        instance_dict['gt_rot_y'] = float(tokens[14])\n",
    "        instance_dict['class']=tokens[0]\n",
    "        height = float(tokens[7])-float(tokens[5])\n",
    "        occlusion = int(tokens[2])\n",
    "        truncation = float(tokens[1])\n",
    "        if (height>40 and occlusion<=0 and truncation<.15):\n",
    "            instance_dict['difficulty'] = 'easy'\n",
    "        elif (height>25 and occlusion<=1 and truncation<.3):\n",
    "            instance_dict['difficulty'] = 'moderate'\n",
    "        elif (height>25 and occlusion<=2 and truncation<.5):\n",
    "            instance_dict['difficulty'] = 'hard'\n",
    "        instances.append(instance_dict)"
   ]
  },
  {
   "cell_type": "code",
   "execution_count": 5,
   "metadata": {},
   "outputs": [],
   "source": [
    "df = pd.DataFrame(instances)"
   ]
  },
  {
   "cell_type": "code",
   "execution_count": 6,
   "metadata": {},
   "outputs": [],
   "source": [
    "from sklearn.metrics import precision_recall_curve,roc_auc_score\n",
    "import numpy as np\n",
    "import random\n",
    "from statistics import mean"
   ]
  },
  {
   "cell_type": "code",
   "execution_count": 7,
   "metadata": {},
   "outputs": [
    {
     "data": {
      "text/plain": [
       "0.9544136879949252"
      ]
     },
     "execution_count": 7,
     "metadata": {},
     "output_type": "execute_result"
    }
   ],
   "source": [
    "# alpha prediction\n",
    "deltas = df['pred_alpha']-df['gt_alpha']\n",
    "alpha_accuracy = 0.5 * (1.0 + np.cos(deltas))\n",
    "num_preds = len(alpha_accuracy)\n",
    "\n",
    "instance_num = [idx/num_preds for idx, acc in enumerate(alpha_accuracy)]\n",
    "sorted_alpha = [acc for acc in reversed(sorted(alpha_accuracy))]\n",
    "mean(sorted_alpha)"
   ]
  },
  {
   "cell_type": "code",
   "execution_count": 8,
   "metadata": {},
   "outputs": [
    {
     "data": {
      "text/plain": [
       "0.9840297337445101"
      ]
     },
     "execution_count": 8,
     "metadata": {},
     "output_type": "execute_result"
    }
   ],
   "source": [
    "#signle_bin\n",
    "deltas = df['conv_single']-df['gt_alpha']\n",
    "single_accuracy = (1+np.cos(deltas))/2\n",
    "sorted_single = [acc for acc in reversed(sorted(single_accuracy))]\n",
    "mean(sorted_single)"
   ]
  },
  {
   "cell_type": "code",
   "execution_count": 9,
   "metadata": {},
   "outputs": [
    {
     "data": {
      "text/plain": [
       "0.9805441964342542"
      ]
     },
     "execution_count": 9,
     "metadata": {},
     "output_type": "execute_result"
    }
   ],
   "source": [
    "#voting_bin\n",
    "deltas = df['conv_voting']-df['gt_alpha']\n",
    "voting_accuracy = (1+np.cos(deltas))/2\n",
    "sorted_voting = [i for i in reversed(sorted(voting_accuracy))]\n",
    "mean(sorted_voting)"
   ]
  },
  {
   "cell_type": "code",
   "execution_count": 10,
   "metadata": {},
   "outputs": [
    {
     "data": {
      "text/plain": [
       "0.9339199839184972"
      ]
     },
     "execution_count": 10,
     "metadata": {},
     "output_type": "execute_result"
    }
   ],
   "source": [
    "#roty\n",
    "deltas = df['conv_roty']-df['gt_alpha']\n",
    "roty_accuracy = (1+np.cos(deltas))/2\n",
    "sorted_roty = [i for i in reversed(sorted(roty_accuracy ))]\n",
    "mean(sorted_roty)"
   ]
  },
  {
   "cell_type": "code",
   "execution_count": 11,
   "metadata": {},
   "outputs": [
    {
     "data": {
      "text/plain": [
       "0.9811520713251849"
      ]
     },
     "execution_count": 11,
     "metadata": {},
     "output_type": "execute_result"
    }
   ],
   "source": [
    "#tricosine\n",
    "deltas = df['conv_tricosine']-df['gt_alpha']\n",
    "tri_accuracy = (1+np.cos(deltas))/2\n",
    "sorted_tri = [i for i in reversed(sorted(tri_accuracy))]\n",
    "mean(sorted_tri)"
   ]
  },
  {
   "cell_type": "code",
   "execution_count": 14,
   "metadata": {},
   "outputs": [
    {
     "data": {
      "image/png": "[encoded data removed]",
      "text/plain": [
       "<Figure size 432x288 with 1 Axes>"
      ]
     },
     "metadata": {
      "needs_background": "light"
     },
     "output_type": "display_data"
    }
   ],
   "source": [
    "pyplot.plot(instance_num, sorted_alpha, marker='.', label='Alpha')\n",
    "\n",
    "\n",
    "pyplot.plot(instance_num, sorted_single, marker='.', label='Single')\n",
    "pyplot.plot(instance_num, sorted_voting, marker='.', label='Voting')\n",
    "pyplot.plot(instance_num, sorted_roty, marker='.', label='Rot_y')\n",
    "pyplot.plot(instance_num, sorted_tri, marker='.', label='Rot_y')\n",
    "# axis labels\n",
    "pyplot.xlabel('Instance')\n",
    "pyplot.ylabel('Accuracy')\n",
    "# show the legend\n",
    "pyplot.legend()\n",
    "# show the plot\n",
    "pyplot.show()"
   ]
  },
  {
   "cell_type": "code",
   "execution_count": null,
   "metadata": {},
   "outputs": [],
   "source": [
    "easy =  df.loc[(df['difficulty'] == 'easy')]\n",
    "mod =  df.loc[(df['difficulty'] == 'moderate')]\n",
    "hard =  df.loc[(df['difficulty'] == 'hard')]"
   ]
  },
  {
   "cell_type": "code",
   "execution_count": null,
   "metadata": {},
   "outputs": [],
   "source": [
    "# alpha prediction\n",
    "deltas = easy['pred_alpha']-easy['gt_alpha']\n",
    "alpha_accuracy = (1+np.cos(deltas))/2\n",
    "l = len(alpha_accuracy)\n",
    "b = [c/l for c,i in enumerate(alpha_accuracy)]\n",
    "aacc = [i for i in reversed(sorted(alpha_accuracy))]\n",
    "print(mean(alpha_accuracy))\n",
    "#signle_bin\n",
    "deltas = easy['conv_single']-easy['gt_alpha']\n",
    "single_accuracy = (1+np.cos(deltas))/2\n",
    "sacc = [i for i in reversed(sorted(single_accuracy))]\n",
    "print(mean(single_accuracy))\n",
    "#voting_bin\n",
    "deltas = easy['conv_voting']-easy['gt_alpha']\n",
    "voting_accuracy = (1+np.cos(deltas))/2\n",
    "vacc = [i for i in reversed(sorted(voting_accuracy))]\n",
    "print(mean(voting_accuracy))\n",
    "#roty\n",
    "deltas = easy['conv_roty']-easy['gt_alpha']\n",
    "roty_accuracy = (1+np.cos(deltas))/2\n",
    "yacc = [i for i in reversed(sorted(roty_accuracy ))]\n",
    "print(mean(roty_accuracy ))\n",
    "#tricosine\n",
    "deltas = easy['conv_tricosine']-easy['gt_alpha']\n",
    "tri_accuracy = (1+np.cos(deltas))/2\n",
    "tacc = [i for i in reversed(sorted(tri_accuracy))]\n",
    "print(mean(tri_accuracy))\n",
    "pyplot.plot(b, aacc, marker='.', label='Alpha')\n",
    "pyplot.plot(b, sacc, marker='.', label='Single')\n",
    "pyplot.plot(b, vacc, marker='.', label='Voting')\n",
    "pyplot.plot(b, yacc, marker='.', label='Rot_y')\n",
    "pyplot.plot(b, tacc, marker='.', label='Rot_y')\n",
    "# axis labels\n",
    "pyplot.xlabel('Instance')\n",
    "pyplot.ylabel('Similarity')\n",
    "# show the legend\n",
    "pyplot.legend()\n",
    "# show the plot\n",
    "pyplot.show()"
   ]
  },
  {
   "cell_type": "code",
   "execution_count": null,
   "metadata": {},
   "outputs": [],
   "source": [
    "# alpha prediction\n",
    "deltas = hard['pred_alpha']-hard['gt_alpha']\n",
    "alpha_accuracy = (1+np.cos(deltas))/2\n",
    "l = len(alpha_accuracy)\n",
    "b = [c/l for c,i in enumerate(alpha_accuracy)]\n",
    "aacc = [i for i in reversed(sorted(alpha_accuracy))]\n",
    "print(mean(alpha_accuracy))\n",
    "#signle_bin\n",
    "deltas = hard['conv_single']-hard['gt_alpha']\n",
    "single_accuracy = (1+np.cos(deltas))/2\n",
    "sacc = [i for i in reversed(sorted(single_accuracy))]\n",
    "print(mean(single_accuracy))\n",
    "#voting_bin\n",
    "deltas = hard['conv_voting']-hard['gt_alpha']\n",
    "voting_accuracy = (1+np.cos(deltas))/2\n",
    "vacc = [i for i in reversed(sorted(voting_accuracy))]\n",
    "print(mean(voting_accuracy))\n",
    "#roty\n",
    "deltas = hard['conv_roty']-hard['gt_alpha']\n",
    "roty_accuracy = (1+np.cos(deltas))/2\n",
    "yacc = [i for i in reversed(sorted(roty_accuracy ))]\n",
    "print(mean(roty_accuracy ))\n",
    "#tricosine\n",
    "deltas = hard['conv_tricosine']-hard['gt_alpha']\n",
    "tri_accuracy = (1+np.cos(deltas))/2\n",
    "tacc = [i for i in reversed(sorted(tri_accuracy))]\n",
    "print(mean(tri_accuracy))\n",
    "pyplot.plot(b, aacc, marker='.', label='Alpha')\n",
    "pyplot.plot(b, sacc, marker='.', label='Single')\n",
    "pyplot.plot(b, vacc, marker='.', label='Voting')\n",
    "pyplot.plot(b, yacc, marker='.', label='Rot_y')\n",
    "pyplot.plot(b, tacc, marker='.', label='Tricosine')\n",
    "# axis labels\n",
    "pyplot.xlabel('Instance')\n",
    "pyplot.ylabel('Similarity')\n",
    "# show the legend\n",
    "pyplot.legend()\n",
    "# show the plot\n",
    "pyplot.show()"
   ]
  },
  {
   "cell_type": "code",
   "execution_count": null,
   "metadata": {},
   "outputs": [],
   "source": [
    "def get_class_diff(css,diff):\n",
    "    return df.loc[(df['difficulty'] == css) & (df['class']==diff)]\n",
    "def getPlot(data,metric):\n",
    "    print(data.size)\n",
    "    deltas = data[metric]-data['gt_alpha']\n",
    "    acc = (1+np.cos(deltas))/2\n",
    "    return [i for i in reversed(sorted(acc))], [i/acc.size for i in range(acc.size)]"
   ]
  },
  {
   "cell_type": "code",
   "execution_count": null,
   "metadata": {},
   "outputs": [],
   "source": [
    "easy_cars = df.loc[(df['difficulty'] == 'easy') & (df['class']=='Car')]\n",
    "mod_cars = df.loc[((df['difficulty'] == 'moderate') | (df['difficulty'] == 'easy'))& (df['class']=='Car')]\n",
    "hard_cars = df.loc[((df['difficulty'] == 'hard')|(df['difficulty'] == 'moderate') | (df['difficulty'] == 'easy')) & (df['class']=='Car')]\n",
    "x1,y1=getPlot(easy_cars,'conv_roty')\n",
    "print(\"Easy acc %f, %d elements\"%(mean(x1),len(x1)))\n",
    "x2,y2=getPlot(mod_cars,'conv_roty')\n",
    "print(\"Med acc %f, %d elements\"%(mean(x2),len(x2)))\n",
    "x3,y3=getPlot(hard_cars,'conv_roty')\n",
    "print(\"Hard acc %f, %d elements\"%(mean(x3),len(x3)))"
   ]
  },
  {
   "cell_type": "code",
   "execution_count": null,
   "metadata": {},
   "outputs": [],
   "source": [
    "pyplot.plot(y1, x1, marker='.', label='Easy')\n",
    "pyplot.plot(y2, x2, marker='.', label='Mod')\n",
    "pyplot.plot(y3, x3, marker='.', label='Hard')\n",
    "# axis labels\n",
    "pyplot.xlabel('Instance')\n",
    "pyplot.ylabel('Similarity')\n",
    "# show the legend\n",
    "pyplot.legend()\n",
    "# show the plot\n",
    "pyplot.show()"
   ]
  },
  {
   "cell_type": "code",
   "execution_count": null,
   "metadata": {},
   "outputs": [],
   "source": [
    "easy_cars = df.loc[(df['difficulty'] == 'easy') & (df['class']=='Pedestrian')]\n",
    "mod_cars = df.loc[((df['difficulty'] == 'moderate') | (df['difficulty'] == 'easy'))& (df['class']=='Pedestrian')]\n",
    "hard_cars = df.loc[((df['difficulty'] == 'hard')|(df['difficulty'] == 'moderate') | (df['difficulty'] == 'easy')) & (df['class']=='Pedestrian')]\n",
    "x1,y1=getPlot(easy_cars,'conv_roty')\n",
    "print(\"Easy acc %f, %d elements\"%(mean(x1),len(x1)))\n",
    "x2,y2=getPlot(mod_cars,'conv_roty')\n",
    "print(\"Med acc %f, %d elements\"%(mean(x2),len(x2)))\n",
    "x3,y3=getPlot(hard_cars,'conv_roty')\n",
    "print(\"Hard acc %f, %d elements\"%(mean(x3),len(x3)))"
   ]
  },
  {
   "cell_type": "code",
   "execution_count": null,
   "metadata": {},
   "outputs": [],
   "source": [
    "pyplot.plot(y1, x1, marker='.', label='Easy')\n",
    "pyplot.plot(y2, x2, marker='.', label='Mod')\n",
    "pyplot.plot(y3, x3, marker='.', label='Hard')\n",
    "# axis labels\n",
    "pyplot.xlabel('Instance')\n",
    "pyplot.ylabel('Similarity')\n",
    "# show the legend\n",
    "pyplot.legend()\n",
    "# show the plot\n",
    "pyplot.show()"
   ]
  },
  {
   "cell_type": "code",
   "execution_count": null,
   "metadata": {},
   "outputs": [],
   "source": [
    "easy_cars = df.loc[(df['difficulty'] == 'easy') & (df['class']=='Cyclist')]\n",
    "mod_cars = df.loc[((df['difficulty'] == 'moderate') | (df['difficulty'] == 'easy'))& (df['class']=='Cyclist')]\n",
    "hard_cars = df.loc[((df['difficulty'] == 'hard')|(df['difficulty'] == 'moderate') | (df['difficulty'] == 'easy')) & (df['class']=='Cyclist')]\n",
    "x1,y1=getPlot(easy_cars,'conv_roty')\n",
    "print(\"Easy acc %f, %d elements\"%(mean(x1),len(x1)))\n",
    "x2,y2=getPlot(mod_cars,'conv_roty')\n",
    "print(\"Med acc %f, %d elements\"%(mean(x2),len(x2)))\n",
    "x3,y3=getPlot(hard_cars,'conv_roty')\n",
    "print(\"Hard acc %f, %d elements\"%(mean(x3),len(x3)))"
   ]
  },
  {
   "cell_type": "code",
   "execution_count": null,
   "metadata": {},
   "outputs": [],
   "source": [
    "pyplot.plot(y1, x1, marker='.', label='Easy')\n",
    "pyplot.plot(y2, x2, marker='.', label='Mod')\n",
    "pyplot.plot(y3, x3, marker='.', label='Hard')\n",
    "# axis labels\n",
    "pyplot.xlabel('Instance')\n",
    "pyplot.ylabel('Similarity')\n",
    "# show the legend\n",
    "pyplot.legend()\n",
    "# show the plot\n",
    "pyplot.show()"
   ]
  },
  {
   "cell_type": "code",
   "execution_count": null,
   "metadata": {},
   "outputs": [],
   "source": []
  }
 ],
 "metadata": {
  "kernelspec": {
   "display_name": "digitalSuperiority",
   "language": "python",
   "name": "digitalsuperiority"
  },
  "language_info": {
   "codemirror_mode": {
    "name": "ipython",
    "version": 3
   },
   "file_extension": ".py",
   "mimetype": "text/x-python",
   "name": "python",
   "nbconvert_exporter": "python",
   "pygments_lexer": "ipython3",
   "version": "3.8.5"
  }
 },
 "nbformat": 4,
 "nbformat_minor": 5
}
