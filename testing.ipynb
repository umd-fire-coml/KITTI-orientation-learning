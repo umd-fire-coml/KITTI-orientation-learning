{
 "cells": [
  {
   "cell_type": "code",
   "execution_count": 1,
   "metadata": {},
   "outputs": [],
   "source": [
    "import tensorflow as tf\n",
    "from backbone_xception import Xception_model\n",
    "from add_output_layers import add_output_layers\n",
    "from tensorflow.keras import Input, Model\n",
    "from loss_function import *\n",
    "import data_processing as dp\n",
    "import os\n",
    "import argparse\n",
    "import time\n",
    "from datetime import datetime\n",
    "from collections import namedtuple\n",
    "from metrics import OrientationAccuracy\n",
    "from tqdm import tqdm\n",
    "import numpy as np\n",
    "from pathlib2 import Path\n",
    "import visualization\n",
    "import random\n",
    "import matplotlib.pyplot as plt\n",
    "from data_processing import KittiGenerator\n",
    "from tqdm import tqdm\n",
    "from os.path import join\n",
    "import math\n",
    "import json\n",
    "import orientation_converters as conv\n",
    "from serialize import NumpyEncoder,json_numpy_obj_hook"
   ]
  },
  {
   "cell_type": "code",
   "execution_count": 2,
   "metadata": {},
   "outputs": [
    {
     "name": "stderr",
     "output_type": "stream",
     "text": [
      "  1%|▋                                                                              | 62/7481 [00:00<00:12, 603.56it/s]"
     ]
    },
    {
     "name": "stdout",
     "output_type": "stream",
     "text": [
      "1 Physical GPUs, 1 Logical GPUs\n"
     ]
    },
    {
     "name": "stderr",
     "output_type": "stream",
     "text": [
      "100%|████████████████████████████████████████████████████████████████████████████| 7481/7481 [00:01<00:00, 3779.87it/s]\n"
     ]
    }
   ],
   "source": [
    "# set up tensorflow GPU\n",
    "tf.config.list_physical_devices('GPU')\n",
    "gpus = tf.config.experimental.list_physical_devices('GPU')\n",
    "if gpus:\n",
    "    try:\n",
    "        # Currently, memory growth needs to be the same across GPUs\n",
    "        for gpu in gpus:\n",
    "            tf.config.experimental.set_memory_growth(gpu, True)\n",
    "        logical_gpus = tf.config.experimental.list_logical_devices('GPU')\n",
    "        config = tf.compat.v1.ConfigProto(gpu_options=tf.compat.v1.GPUOptions(\n",
    "            per_process_gpu_memory_fraction=0.8)\n",
    "            # device_count = {'GPU': 1}\n",
    "        )\n",
    "        config.gpu_options.allow_growth = True\n",
    "        session = tf.compat.v1.Session(config=config)\n",
    "        tf.compat.v1.keras.backend.set_session(session)\n",
    "        print(len(gpus), \"Physical GPUs,\", len(logical_gpus), \"Logical GPUs\")\n",
    "    except RuntimeError as e:\n",
    "        # Memory growth must be set before GPUs have been initialized\n",
    "        print(e)\n",
    "\n",
    "# Processing argument\n",
    "'''\n",
    "parser = argparse.ArgumentParser(description='Training Model')\n",
    "parser.add_argument(dest='orientation', type=str,\n",
    "                    help='Orientation Type of the model. Options are tricosine, alpha, rot_y, multibin')\n",
    "parser.add_argument('--batch_size', dest='batch_size', type=int, default=8,\n",
    "                    help='Define the batch size for training. Default value is 8')\n",
    "parser.add_argument('--weight_dir', dest='weight_dir', type=str, default='weights',\n",
    "                    help='Relative path to save weights. Default path is weights')\n",
    "parser.add_argument('--kitti_dir', dest='kitti_dir', type=str, default='dataset',\n",
    "                    help='path to kitti dataset directory. Its subdirectory should have training/ and testing/. Default path is dataset/')\n",
    "                    \n",
    "'''\n",
    "parser = namedtuple(\"parser\",\"orientation batch_size weights kitti_dir\")\n",
    "args = parser(orientation=\"single_bin\",batch_size=32,weights = \"weights/best\",kitti_dir=\"./dataset\")\n",
    "\n",
    "\n",
    "def timer(start, end):\n",
    "    hours, rem = divmod(end-start, 3600)\n",
    "    minutes, seconds = divmod(rem, 60)\n",
    "    print(\"{:0>2}:{:0>2}:{:05.2f}\".format(int(hours), int(minutes), seconds))\n",
    "\n",
    "\n",
    "def loss_func(orientation):\n",
    "    if orientation == 'tricosine':\n",
    "        return loss_tricosine\n",
    "    elif orientation == 'alpha':\n",
    "        return loss_alpha\n",
    "    elif orientation == 'rot_y':\n",
    "        return loss_rot_y\n",
    "    elif orientation == 'multibin':\n",
    "        return loss_multibin\n",
    "    else:\n",
    "        raise Exception('Incorrect orientation type for loss function')\n",
    "\n",
    "#if __name__ == \"__main__\":\n",
    "BATCH_SIZE = args.batch_size\n",
    "ORIENTATION = args.orientation\n",
    "KITTI_DIR = args.kitti_dir\n",
    "WEIGHT = args.weights\n",
    "if not os.path.isdir(KITTI_DIR):\n",
    "    raise Exception('kitti_dir is not a directory.')\n",
    "\n",
    "LABEL_DIR = os.path.join(KITTI_DIR, 'training/label_2/')\n",
    "IMG_DIR = os.path.join(KITTI_DIR, 'training/image_2/')\n",
    "\n",
    "if ORIENTATION=='alpha':\n",
    "    PREDICTION_TARGET = 'alpha'\n",
    "else:\n",
    "    PREDICTION_TARGET = 'rot_y'\n",
    "# Generator config\n",
    "test_gen = dp.KittiGenerator(label_dir=LABEL_DIR, image_dir=IMG_DIR, batch_size=BATCH_SIZE,\n",
    "                              orientation_type=ORIENTATION, mode='test',prediction_target=PREDICTION_TARGET)"
   ]
  },
  {
   "cell_type": "markdown",
   "metadata": {},
   "source": [
    "class wrapper(tf.keras.utils.Sequence):\n",
    "    def __init__(self,kg):\n",
    "        self.kg=kg\n",
    "    def __len__(self):\n",
    "        return len(self.kg)\n",
    "    def __getitem__(self, idx):\n",
    "        item = self.kg[idx]\n",
    "        return item[0:1]\n"
   ]
  },
  {
   "cell_type": "code",
   "execution_count": 3,
   "metadata": {},
   "outputs": [
    {
     "name": "stdout",
     "output_type": "stream",
     "text": [
      "Testing on 26937 objects. \n",
      "841/841 [==============================] - 207s 242ms/step\n"
     ]
    }
   ],
   "source": [
    "print('Testing on {:n} objects. '.format(len(test_gen.obj_ids)))\n",
    "import math\n",
    "# Building Model\n",
    "inputs = Input(shape=(224, 224, 3))\n",
    "x = Xception_model(inputs, pooling='avg')\n",
    "x = add_output_layers(ORIENTATION, x)\n",
    "model = Model(inputs=inputs, outputs=x)\n",
    "loss_func, loss_weights = get_loss_params(ORIENTATION)\n",
    "model.compile(loss=loss_func, optimizer='adam',\n",
    "              metrics=[OrientationAccuracy(ORIENTATION)], run_eagerly=True)\n",
    "weight_dir = os.path.join(WEIGHT,ORIENTATION)\n",
    "wname = os.listdir(weight_dir)[0]\n",
    "model.load_weights(os.path.join(weight_dir,wname))\n",
    "start_time = time.time()\n",
    "\n",
    "results = [] \n",
    "predictions = model.predict(x=test_gen,verbose=1,workers=6,use_multiprocessing=False) # this speeds up the code speed by 4x, but is too hard to work with, will recommend multiprocessing false for training"
   ]
  },
  {
   "cell_type": "code",
   "execution_count": 4,
   "metadata": {},
   "outputs": [
    {
     "name": "stderr",
     "output_type": "stream",
     "text": [
      "100%|████████████████████████████████████████████████████████████████████████| 26912/26912 [00:00<00:00, 658060.45it/s]\n"
     ]
    }
   ],
   "source": [
    "sygyzy=[]\n",
    "\n",
    "for c,pred in enumerate(tqdm(predictions)):\n",
    "    sygyzy.append({'pred':pred,'line':test_gen.all_objs[c]['line'],'img':test_gen.all_objs[c]['image_file'][0:6]})"
   ]
  },
  {
   "cell_type": "code",
   "execution_count": 5,
   "metadata": {},
   "outputs": [],
   "source": [
    "\n",
    "with open(os.path.join(\"preds\",ORIENTATION+\"_normed.json\"), \"w\") as fp:\n",
    "    json.dump(sygyzy,fp,cls = NumpyEncoder)"
   ]
  },
  {
   "cell_type": "markdown",
   "metadata": {},
   "source": [
    "T"
   ]
  }
 ],
 "metadata": {
  "kernelspec": {
   "display_name": "KITTI-Orientation",
   "language": "python",
   "name": "kitti-orientation"
  },
  "language_info": {
   "codemirror_mode": {
    "name": "ipython",
    "version": 3
   },
   "file_extension": ".py",
   "mimetype": "text/x-python",
   "name": "python",
   "nbconvert_exporter": "python",
   "pygments_lexer": "ipython3",
   "version": "3.8.5"
  }
 },
 "nbformat": 4,
 "nbformat_minor": 4
}
