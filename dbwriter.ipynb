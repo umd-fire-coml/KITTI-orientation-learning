{
 "cells": [
  {
   "cell_type": "code",
   "execution_count": 1,
   "id": "634e421e-0345-4a97-9b3d-797632b8ba6d",
   "metadata": {},
   "outputs": [],
   "source": [
    "import pandas as pd\n",
    "from serialize import NumpyEncoder,json_numpy_obj_hook\n",
    "import json\n",
    "import orientation_converters as conv\n",
    "from tqdm import tqdm\n",
    "import math"
   ]
  },
  {
   "cell_type": "code",
   "execution_count": 2,
   "id": "d5b8e52e-795e-451a-adb6-6bdec3da71a1",
   "metadata": {},
   "outputs": [],
   "source": [
    "with open(\"preds/alpha_normed.json\",\"r+\") as fp:\n",
    "    alpha_preds = json.load(fp,object_hook=json_numpy_obj_hook)\n",
    "with open(\"preds/rot_y_normed.json\",\"r+\") as fp:\n",
    "    roty_preds = json.load(fp,object_hook=json_numpy_obj_hook)\n",
    "with open(\"preds/single_bin_normed.json\",\"r+\") as fp:\n",
    "    single_preds = json.load(fp,object_hook=json_numpy_obj_hook)\n",
    "with open(\"preds/voting_bin_normed.json\",\"r+\") as fp:\n",
    "    voting_preds = json.load(fp,object_hook=json_numpy_obj_hook)\n",
    "with open(\"preds/tricosine_normed.json\",\"r+\") as fp:\n",
    "    tricosine_preds = json.load(fp,object_hook=json_numpy_obj_hook)"
   ]
  },
  {
   "cell_type": "code",
   "execution_count": 3,
   "id": "bad6513f-5efd-4aa7-9be1-9c78a1a63838",
   "metadata": {},
   "outputs": [],
   "source": [
    "sygyzy={}\n",
    "for p in alpha_preds:\n",
    "    pred_alpha = conv.angle_normed_to_radians(p['pred'][0])\n",
    "    imgid = p['img']\n",
    "    if (imgid not in sygyzy):\n",
    "        sygyzy[imgid]={}\n",
    "    sygyzy[imgid][p['line']] ={'norm_alpha':p['pred'][0],'pred_alpha':pred_alpha}\n",
    "for p in roty_preds:\n",
    "    pred_roty = conv.angle_normed_to_radians(p['pred'][0])\n",
    "    imgid = p['img']\n",
    "    if (imgid not in sygyzy):\n",
    "        raise\n",
    "    sygyzy[imgid][p['line']]['norm_roty'] = p['pred'][0]\n",
    "    sygyzy[imgid][p['line']]['pred_roty'] = pred_roty\n",
    "    tokens = p['line'].strip().split(' ')\n",
    "    sygyzy[imgid][p['line']]['conv_roty'] = conv.rot_y_to_alpha(pred_roty,float(tokens[11]),float(tokens[13]))\n",
    "    \n",
    "for p in single_preds:\n",
    "    conv_single = conv.single_bin_to_radians(p['pred'])\n",
    "    imgid = p['img']\n",
    "    if (imgid not in sygyzy):\n",
    "        raise\n",
    "    sygyzy[imgid][p['line']]['single_pred'] = p['pred']\n",
    "    sygyzy[imgid][p['line']]['conv_single'] = conv_single\n",
    "for p in voting_preds:\n",
    "    conv_voting = conv.voting_bin_to_radians(p['pred'])\n",
    "    imgid = p['img']\n",
    "    if (conv_voting>math.pi):\n",
    "        conv_voting-=math.tau\n",
    "    if (imgid not in sygyzy):\n",
    "        raise\n",
    "    sygyzy[imgid][p['line']]['voting_pred'] = p['pred']\n",
    "    sygyzy[imgid][p['line']]['conv_voting'] = conv_voting\n",
    "for c,p in enumerate(tricosine_preds):\n",
    "    conv_tri = conv.tricosine_to_radians(p['pred'])\n",
    "    imgid = p['img']\n",
    "    if (imgid not in sygyzy):\n",
    "        raise\n",
    "    sygyzy[imgid][p['line']]['tricosine_pred'] = p['pred']\n",
    "    sygyzy[imgid][p['line']]['conv_tricosine'] = conv_tri"
   ]
  },
  {
   "cell_type": "code",
   "execution_count": 4,
   "id": "19c320bb-21e7-4b79-a929-48054d6fd415",
   "metadata": {},
   "outputs": [],
   "source": [
    "base = []\n",
    "for c,imgid in enumerate(sygyzy):\n",
    "    for instance in sygyzy[imgid]:\n",
    "        work = sygyzy[imgid][instance]\n",
    "        work['imgid'] = imgid\n",
    "        work['line'] = instance\n",
    "        tokens = instance.strip().split(' ')\n",
    "        work['gt_alpha'] = tokens[3]\n",
    "        work['gt_rot_y'] = tokens[14]\n",
    "        base.append(work)"
   ]
  },
  {
   "cell_type": "code",
   "execution_count": 5,
   "id": "7d457abc-a556-45a4-9a64-90bc984cac5f",
   "metadata": {},
   "outputs": [],
   "source": [
    "df = pd.DataFrame(base)"
   ]
  },
  {
   "cell_type": "code",
   "execution_count": 6,
   "id": "0f1dc768-4f27-498a-b4d5-765fe5f8f66d",
   "metadata": {},
   "outputs": [],
   "source": [
    "df.to_csv(\"preds/out.csv\")"
   ]
  },
  {
   "cell_type": "code",
   "execution_count": null,
   "id": "7ff28204-bcdc-4124-9030-ab197a6ed7d1",
   "metadata": {},
   "outputs": [],
   "source": []
  }
 ],
 "metadata": {
  "kernelspec": {
   "display_name": "digitalSuperiority",
   "language": "python",
   "name": "digitalsuperiority"
  },
  "language_info": {
   "codemirror_mode": {
    "name": "ipython",
    "version": 3
   },
   "file_extension": ".py",
   "mimetype": "text/x-python",
   "name": "python",
   "nbconvert_exporter": "python",
   "pygments_lexer": "ipython3",
   "version": "3.8.5"
  }
 },
 "nbformat": 4,
 "nbformat_minor": 5
}
