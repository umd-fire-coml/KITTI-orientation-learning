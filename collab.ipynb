{
 "cells": [
  {
   "cell_type": "code",
   "execution_count": 1,
   "metadata": {},
   "outputs": [
    {
     "name": "stdout",
     "output_type": "stream",
     "text": [
      "[name: \"/device:CPU:0\"\n",
      "device_type: \"CPU\"\n",
      "memory_limit: 268435456\n",
      "locality {\n",
      "}\n",
      "incarnation: 7289277657130074747\n",
      ", name: \"/device:GPU:0\"\n",
      "device_type: \"GPU\"\n",
      "memory_limit: 4177330176\n",
      "locality {\n",
      "  bus_id: 1\n",
      "  links {\n",
      "  }\n",
      "}\n",
      "incarnation: 16654422508284937245\n",
      "physical_device_desc: \"device: 0, name: GeForce GTX 1660 Ti, pci bus id: 0000:01:00.0, compute capability: 7.5\"\n",
      "]\n"
     ]
    }
   ],
   "source": [
    "from tensorflow.python.client import device_lib\n",
    "print(device_lib.list_local_devices())"
   ]
  },
  {
   "cell_type": "code",
   "execution_count": 2,
   "metadata": {},
   "outputs": [],
   "source": [
    "from sklearn.metrics import precision_recall_curve\n",
    "import pandas as pd\n",
    "from serialize import NumpyEncoder,json_numpy_obj_hook\n",
    "import json\n",
    "import orientation_converters as conv\n",
    "from tqdm import tqdm\n",
    "import math"
   ]
  },
  {
   "cell_type": "code",
   "execution_count": 3,
   "metadata": {},
   "outputs": [],
   "source": [
    "with open(\"preds/alpha_normed.json\",\"r+\") as fp:\n",
    "    alpha_preds = json.load(fp,object_hook=json_numpy_obj_hook)"
   ]
  },
  {
   "cell_type": "code",
   "execution_count": 4,
   "metadata": {},
   "outputs": [
    {
     "name": "stdout",
     "output_type": "stream",
     "text": [
      "Logistic: f1=0.841 auc=0.898\n"
     ]
    },
    {
     "data": {
      "image/png": "[encoded data removed]",
      "text/plain": [
       "<Figure size 432x288 with 1 Axes>"
      ]
     },
     "metadata": {
      "needs_background": "light"
     },
     "output_type": "display_data"
    }
   ],
   "source": [
    "from sklearn.datasets import make_classification\n",
    "from sklearn.linear_model import LogisticRegression\n",
    "from sklearn.model_selection import train_test_split\n",
    "from sklearn.metrics import precision_recall_curve\n",
    "from sklearn.metrics import f1_score\n",
    "from sklearn.metrics import auc\n",
    "from matplotlib import pyplot\n",
    "# generate 2 class dataset\n",
    "X, y = make_classification(n_samples=1000, n_classes=2, random_state=1)\n",
    "# split into train/test sets\n",
    "trainX, testX, trainy, testy = train_test_split(X, y, test_size=0.5, random_state=2)\n",
    "# fit a model\n",
    "model = LogisticRegression(solver='lbfgs')\n",
    "model.fit(trainX, trainy)\n",
    "# predict probabilities\n",
    "lr_probs = model.predict_proba(testX)\n",
    "# keep probabilities for the positive outcome only\n",
    "lr_probs = lr_probs[:, 1]\n",
    "# predict class values\n",
    "yhat = model.predict(testX)\n",
    "lr_precision, lr_recall, _ = precision_recall_curve(testy, lr_probs)\n",
    "lr_f1, lr_auc = f1_score(testy, yhat), auc(lr_recall, lr_precision)\n",
    "# summarize scores\n",
    "print('Logistic: f1=%.3f auc=%.3f' % (lr_f1, lr_auc))\n",
    "# plot the precision-recall curves\n",
    "no_skill = len(testy[testy==1]) / len(testy)\n",
    "pyplot.plot([0, 1], [no_skill, no_skill], linestyle='--', label='No Skill')\n",
    "pyplot.plot(lr_recall, lr_precision, marker='.', label='Logistic')\n",
    "# axis labels\n",
    "pyplot.xlabel('Recall')\n",
    "pyplot.ylabel('Precision')\n",
    "# show the legend\n",
    "pyplot.legend()\n",
    "# show the plot\n",
    "pyplot.show()"
   ]
  },
  {
   "cell_type": "code",
   "execution_count": 5,
   "metadata": {},
   "outputs": [
    {
     "data": {
      "text/plain": [
       "array([0.84762581, 0.15237419])"
      ]
     },
     "execution_count": 5,
     "metadata": {},
     "output_type": "execute_result"
    }
   ],
   "source": [
    "model.predict_proba(testX)[3]"
   ]
  },
  {
   "cell_type": "code",
   "execution_count": 21,
   "metadata": {},
   "outputs": [
    {
     "data": {
      "text/plain": [
       "array([0.99597268, 0.99799484, 0.00529883, 0.15237419, 0.99833335,\n",
       "       0.50006145, 0.01976314, 0.02346338, 0.9820007 , 0.70646518])"
      ]
     },
     "execution_count": 21,
     "metadata": {},
     "output_type": "execute_result"
    }
   ],
   "source": [
    "lr_probs[0:10] \n"
   ]
  },
  {
   "cell_type": "code",
   "execution_count": 19,
   "metadata": {},
   "outputs": [
    {
     "data": {
      "text/plain": [
       "array([1, 1, 0, 0, 1, 1, 0, 0, 1, 1, 0, 0, 0, 1, 1, 0, 0, 1, 0, 1, 1, 0,\n",
       "       0, 0, 0, 1, 1, 1, 0, 0, 1, 1, 0, 1, 0, 0, 1, 1, 1, 0, 0, 0, 0, 1,\n",
       "       0, 1, 0, 1, 0, 0, 1, 1, 0, 1, 0, 1, 0, 0, 0, 1, 1, 1, 0, 0, 0, 0,\n",
       "       1, 0, 1, 1, 0, 0, 1, 1, 1, 1, 0, 0, 0, 0, 0, 0, 1, 0, 1, 1, 1, 0,\n",
       "       1, 1, 1, 1, 1, 1, 1, 1, 0, 1, 0, 1, 1, 0, 1, 0, 0, 1, 0, 1, 0, 0,\n",
       "       0, 1, 1, 0, 0, 1, 1, 0, 0, 0, 0, 1, 0, 1, 1, 1, 1, 0, 0, 1, 1, 1,\n",
       "       0, 0, 0, 1, 0, 0, 1, 0, 1, 1, 1, 0, 0, 0, 0, 1, 1, 0, 1, 0, 0, 0,\n",
       "       1, 1, 0, 1, 0, 1, 0, 1, 1, 0, 0, 1, 0, 0, 1, 0, 0, 1, 1, 0, 0, 0,\n",
       "       1, 0, 0, 1, 0, 1, 0, 1, 0, 1, 1, 0, 1, 1, 1, 1, 0, 1, 1, 0, 0, 1,\n",
       "       0, 0, 0, 1, 0, 1, 0, 1, 1, 0, 0, 1, 0, 1, 0, 1, 0, 1, 1, 1, 1, 1,\n",
       "       0, 1, 0, 1, 1, 0, 0, 0, 0, 1, 1, 0, 1, 1, 1, 1, 1, 1, 1, 1, 0, 0,\n",
       "       1, 1, 0, 1, 1, 1, 0, 1, 1, 1, 1, 0, 0, 0, 1, 0, 1, 0, 1, 0, 0, 1,\n",
       "       0, 0, 1, 0, 0, 0, 0, 0, 1, 0, 1, 1, 0, 0, 1, 0, 1, 1, 0, 1, 0, 1,\n",
       "       0, 0, 1, 0, 1, 0, 0, 1, 1, 0, 0, 1, 1, 0, 1, 1, 1, 0, 0, 0, 0, 1,\n",
       "       1, 0, 1, 1, 0, 1, 1, 0, 1, 1, 0, 1, 0, 0, 1, 1, 1, 0, 1, 1, 0, 1,\n",
       "       1, 0, 1, 0, 0, 0, 0, 1, 0, 1, 1, 0, 0, 0, 0, 1, 1, 1, 1, 0, 1, 0,\n",
       "       0, 1, 0, 0, 1, 1, 0, 1, 1, 1, 1, 0, 0, 1, 1, 1, 0, 0, 0, 0, 0, 1,\n",
       "       1, 0, 1, 1, 1, 1, 0, 0, 0, 0, 1, 1, 1, 1, 1, 0, 1, 1, 1, 0, 1, 1,\n",
       "       1, 0, 1, 1, 1, 0, 1, 0, 1, 1, 0, 1, 0, 1, 1, 1, 0, 1, 0, 0, 1, 0,\n",
       "       1, 1, 1, 0, 1, 0, 0, 0, 0, 0, 1, 1, 0, 0, 0, 1, 0, 0, 1, 1, 0, 1,\n",
       "       0, 1, 1, 1, 0, 0, 1, 1, 1, 0, 1, 1, 1, 0, 1, 1, 0, 1, 1, 1, 1, 1,\n",
       "       0, 1, 1, 0, 0, 0, 1, 1, 0, 0, 0, 1, 1, 0, 0, 0, 0, 1, 0, 0, 0, 0,\n",
       "       0, 1, 1, 1, 1, 0, 0, 1, 0, 1, 1, 1, 1, 0, 0, 0])"
      ]
     },
     "execution_count": 19,
     "metadata": {},
     "output_type": "execute_result"
    }
   ],
   "source": [
    "testy"
   ]
  },
  {
   "cell_type": "code",
   "execution_count": 17,
   "metadata": {},
   "outputs": [
    {
     "data": {
      "text/plain": [
       "array([0.55793991, 0.55698925, 0.55818966, 0.55939525, 0.56060606,\n",
       "       0.56182213, 0.56304348, 0.56427015, 0.56550218, 0.56673961,\n",
       "       0.56798246, 0.56923077, 0.57048458, 0.57174393, 0.57300885,\n",
       "       0.57427938, 0.57555556, 0.57683742, 0.578125  , 0.57941834,\n",
       "       0.58071749, 0.58202247, 0.58333333, 0.58465011, 0.58597285,\n",
       "       0.58730159, 0.58863636, 0.58997722, 0.5913242 , 0.59267735,\n",
       "       0.5940367 , 0.59310345, 0.59447005, 0.59584296, 0.59722222,\n",
       "       0.59860789, 0.6       , 0.6013986 , 0.60280374, 0.60421546,\n",
       "       0.6056338 , 0.60705882, 0.60613208, 0.60756501, 0.60900474,\n",
       "       0.61045131, 0.61190476, 0.61336516, 0.61483254, 0.61630695,\n",
       "       0.61778846, 0.61927711, 0.62077295, 0.62227603, 0.62378641,\n",
       "       0.62530414, 0.62682927, 0.62836186, 0.62990196, 0.63144963,\n",
       "       0.63300493, 0.6345679 , 0.63613861, 0.63771712, 0.63930348,\n",
       "       0.64089776, 0.6425    , 0.64411028, 0.64572864, 0.64735516,\n",
       "       0.6489899 , 0.65063291, 0.64974619, 0.65139949, 0.65306122,\n",
       "       0.65473146, 0.65641026, 0.65552699, 0.65721649, 0.65891473,\n",
       "       0.66062176, 0.66233766, 0.6640625 , 0.66579634, 0.66753927,\n",
       "       0.66929134, 0.67105263, 0.67282322, 0.67195767, 0.67374005,\n",
       "       0.67553191, 0.67733333, 0.67914439, 0.68096515, 0.6827957 ,\n",
       "       0.6819407 , 0.68378378, 0.68563686, 0.6875    , 0.6893733 ,\n",
       "       0.68852459, 0.69041096, 0.69230769, 0.69421488, 0.6961326 ,\n",
       "       0.69806094, 0.69722222, 0.69916435, 0.70111732, 0.70308123,\n",
       "       0.70505618, 0.70422535, 0.70621469, 0.7082153 , 0.71022727,\n",
       "       0.71225071, 0.71428571, 0.71633238, 0.7183908 , 0.7204611 ,\n",
       "       0.72254335, 0.72463768, 0.72674419, 0.72886297, 0.73099415,\n",
       "       0.73313783, 0.73529412, 0.73746313, 0.73964497, 0.74183976,\n",
       "       0.74404762, 0.74626866, 0.74550898, 0.74774775, 0.75      ,\n",
       "       0.74924471, 0.74848485, 0.75075988, 0.75304878, 0.75229358,\n",
       "       0.75153374, 0.75076923, 0.75308642, 0.75541796, 0.75776398,\n",
       "       0.76012461, 0.759375  , 0.75862069, 0.75786164, 0.75709779,\n",
       "       0.75949367, 0.75873016, 0.7611465 , 0.76038339, 0.76282051,\n",
       "       0.76527331, 0.76451613, 0.76699029, 0.76623377, 0.76872964,\n",
       "       0.76797386, 0.7704918 , 0.77302632, 0.77557756, 0.7781457 ,\n",
       "       0.7807309 , 0.78333333, 0.78595318, 0.7885906 , 0.79124579,\n",
       "       0.79054054, 0.78983051, 0.79251701, 0.79180887, 0.79452055,\n",
       "       0.79725086, 0.8       , 0.80276817, 0.80208333, 0.80139373,\n",
       "       0.8006993 , 0.8       , 0.8028169 , 0.80565371, 0.80851064,\n",
       "       0.8113879 , 0.81428571, 0.81362007, 0.81654676, 0.81949458,\n",
       "       0.81884058, 0.81818182, 0.82116788, 0.82051282, 0.82352941,\n",
       "       0.82656827, 0.82962963, 0.83271375, 0.8358209 , 0.83520599,\n",
       "       0.83834586, 0.83773585, 0.83712121, 0.8365019 , 0.83587786,\n",
       "       0.83524904, 0.83846154, 0.83783784, 0.84108527, 0.84435798,\n",
       "       0.84375   , 0.84705882, 0.8503937 , 0.84980237, 0.8531746 ,\n",
       "       0.85258964, 0.852     , 0.85542169, 0.85483871, 0.8582996 ,\n",
       "       0.85772358, 0.85714286, 0.85655738, 0.85596708, 0.8553719 ,\n",
       "       0.85892116, 0.85833333, 0.85774059, 0.85714286, 0.86075949,\n",
       "       0.86016949, 0.85957447, 0.85897436, 0.86266094, 0.86206897,\n",
       "       0.86147186, 0.86086957, 0.86026201, 0.86403509, 0.86343612,\n",
       "       0.86283186, 0.86222222, 0.86607143, 0.86547085, 0.86486486,\n",
       "       0.86425339, 0.86363636, 0.86757991, 0.87155963, 0.87557604,\n",
       "       0.875     , 0.8744186 , 0.87383178, 0.87323944, 0.87264151,\n",
       "       0.87677725, 0.87619048, 0.87559809, 0.87980769, 0.88405797,\n",
       "       0.88834951, 0.88780488, 0.8872549 , 0.89162562, 0.89108911,\n",
       "       0.89054726, 0.89      , 0.88944724, 0.88888889, 0.88832487,\n",
       "       0.8877551 , 0.88717949, 0.88659794, 0.89119171, 0.890625  ,\n",
       "       0.89528796, 0.89473684, 0.89417989, 0.89361702, 0.89304813,\n",
       "       0.89784946, 0.8972973 , 0.89673913, 0.89617486, 0.8956044 ,\n",
       "       0.90055249, 0.9       , 0.90502793, 0.90449438, 0.9039548 ,\n",
       "       0.90909091, 0.90857143, 0.90804598, 0.90751445, 0.90697674,\n",
       "       0.90643275, 0.90588235, 0.90532544, 0.9047619 , 0.91017964,\n",
       "       0.90963855, 0.90909091, 0.90853659, 0.90797546, 0.90740741,\n",
       "       0.9068323 , 0.90625   , 0.90566038, 0.90506329, 0.9044586 ,\n",
       "       0.91025641, 0.90967742, 0.90909091, 0.91503268, 0.91447368,\n",
       "       0.91390728, 0.91333333, 0.91275168, 0.91216216, 0.91156463,\n",
       "       0.9109589 , 0.91034483, 0.90972222, 0.90909091, 0.9084507 ,\n",
       "       0.90780142, 0.90714286, 0.90647482, 0.9057971 , 0.90510949,\n",
       "       0.90441176, 0.9037037 , 0.90298507, 0.90225564, 0.90909091,\n",
       "       0.91603053, 0.91538462, 0.91472868, 0.9140625 , 0.91338583,\n",
       "       0.91269841, 0.912     , 0.91129032, 0.91869919, 0.92622951,\n",
       "       0.92561983, 0.925     , 0.92436975, 0.92372881, 0.92307692,\n",
       "       0.92241379, 0.92173913, 0.92105263, 0.92920354, 0.9375    ,\n",
       "       0.93693694, 0.93636364, 0.93577982, 0.93518519, 0.93457944,\n",
       "       0.93396226, 0.93333333, 0.93269231, 0.93203883, 0.93137255,\n",
       "       0.94059406, 0.94      , 0.93939394, 0.93877551, 0.93814433,\n",
       "       0.9375    , 0.93684211, 0.93617021, 0.93548387, 0.93478261,\n",
       "       0.93406593, 0.93333333, 0.93258427, 0.93181818, 0.93103448,\n",
       "       0.93023256, 0.92941176, 0.92857143, 0.93975904, 0.95121951,\n",
       "       0.95061728, 0.95      , 0.94936709, 0.94871795, 0.94805195,\n",
       "       0.94736842, 0.94666667, 0.94594595, 0.94520548, 0.94444444,\n",
       "       0.94366197, 0.94285714, 0.94202899, 0.94117647, 0.95522388,\n",
       "       0.95454545, 0.95384615, 0.953125  , 0.95238095, 0.9516129 ,\n",
       "       0.95081967, 0.95      , 0.94915254, 0.94827586, 0.94736842,\n",
       "       0.94642857, 0.94545455, 0.94444444, 0.94339623, 0.96153846,\n",
       "       0.96078431, 0.96      , 0.95918367, 0.95833333, 0.95744681,\n",
       "       0.95652174, 0.95555556, 0.95454545, 0.95348837, 0.95238095,\n",
       "       0.95121951, 0.95      , 0.94871795, 0.94736842, 0.94594595,\n",
       "       0.94444444, 0.94285714, 0.97058824, 0.96969697, 0.96875   ,\n",
       "       0.96774194, 0.96666667, 1.        , 1.        , 1.        ,\n",
       "       1.        , 1.        , 1.        , 1.        , 1.        ,\n",
       "       1.        , 1.        , 1.        , 1.        , 1.        ,\n",
       "       1.        , 1.        , 1.        , 1.        , 1.        ,\n",
       "       1.        , 1.        , 1.        , 1.        , 1.        ,\n",
       "       1.        , 1.        , 1.        , 1.        , 1.        ,\n",
       "       1.        , 1.        ])"
      ]
     },
     "execution_count": 17,
     "metadata": {},
     "output_type": "execute_result"
    }
   ],
   "source": [
    "lr_precision"
   ]
  },
  {
   "cell_type": "code",
   "execution_count": null,
   "metadata": {},
   "outputs": [],
   "source": []
  }
 ],
 "metadata": {
  "kernelspec": {
   "display_name": "digitalSuperiority",
   "language": "python",
   "name": "digitalsuperiority"
  },
  "language_info": {
   "codemirror_mode": {
    "name": "ipython",
    "version": 3
   },
   "file_extension": ".py",
   "mimetype": "text/x-python",
   "name": "python",
   "nbconvert_exporter": "python",
   "pygments_lexer": "ipython3",
   "version": "3.8.5"
  }
 },
 "nbformat": 4,
 "nbformat_minor": 4
}
